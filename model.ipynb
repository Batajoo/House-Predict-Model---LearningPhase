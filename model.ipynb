{
 "cells": [
  {
   "cell_type": "code",
   "execution_count": 168,
   "id": "909b7102-3b49-4691-91ff-b9da1ef71615",
   "metadata": {},
   "outputs": [],
   "source": [
    "import matplotlib.pyplot as plt\n",
    "import numpy as np\n",
    "import pandas as pd\n",
    "import math\n",
    "from sklearn.preprocessing import StandardScaler"
   ]
  },
  {
   "cell_type": "code",
   "execution_count": 169,
   "id": "9d481b9d-ece3-4b26-a9d3-bc01c7aab0f2",
   "metadata": {},
   "outputs": [],
   "source": [
    "house_data = pd.read_csv(\"dataSet/train.csv\")"
   ]
  },
  {
   "cell_type": "code",
   "execution_count": 170,
   "id": "dcd647de-a6a9-4919-baff-be268b99f3d8",
   "metadata": {},
   "outputs": [],
   "source": [
    "df = pd.DataFrame(house_data)"
   ]
  },
  {
   "cell_type": "code",
   "execution_count": 171,
   "id": "11b75170-785a-4296-be2d-5bdc120f2f11",
   "metadata": {},
   "outputs": [],
   "source": [
    "y_train = df[\"PRICE\"].to_numpy().reshape(-1,1)\n",
    "x_train = df[\"PROPERTYSQFT\"].to_numpy().reshape(-1,1)\n",
    "scaler = StandardScaler()\n",
    "x_scaled = scaler.fit_transform(x_train)\n",
    "y_scaled = scaler.fit_transform(y_train)"
   ]
  },
  {
   "cell_type": "code",
   "execution_count": 172,
   "id": "2ffdf88d-940e-4a4c-a531-c1306ceec0ad",
   "metadata": {},
   "outputs": [
    {
     "data": {
      "image/png": "[encoded data removed]",
      "text/plain": [
       "<Figure size 640x480 with 1 Axes>"
      ]
     },
     "metadata": {},
     "output_type": "display_data"
    }
   ],
   "source": [
    "plt.scatter(x_scaled, y_scaled, marker=\"x\", c=\"r\")\n",
    "plt.title(\"House Price to Area Summary\")\n",
    "plt.xlabel(\"House Area in FT\")\n",
    "plt.ylabel(\"House Price in Lakhs\")\n",
    "plt.show()"
   ]
  },
  {
   "cell_type": "code",
   "execution_count": 173,
   "id": "f81da640-2dc4-4a25-bb78-a8b80005052d",
   "metadata": {},
   "outputs": [],
   "source": [
    "def compute_cost(x,y,w,b):\n",
    "    \n",
    "    m = x.shape[0]\n",
    "    total = 0 \n",
    "    \n",
    "    # for i in range(0,m):\n",
    "    #     fw_b = w*x[i] + b\n",
    "    #     total += (fw_bi - y[i]) ** 2\n",
    "        \n",
    "    fw_b = w * x + b\n",
    "    error = fw_b - y\n",
    "    total = np.sum(error ** 2)\n",
    "    cost_fn = (1 / (2 * m)) * total\n",
    "    return cost_fn\n",
    "    "
   ]
  },
  {
   "cell_type": "code",
   "execution_count": 174,
   "id": "fbe039a0-97b6-46c1-9ff3-41bb92e5638d",
   "metadata": {},
   "outputs": [
    {
     "name": "stdout",
     "output_type": "stream",
     "text": [
      "<class 'numpy.float64'>\n",
      "Cost at initial w: 494224122690776.3\n"
     ]
    }
   ],
   "source": [
    "initial_w = 2\n",
    "initial_b = 1\n",
    "\n",
    "cost = compute_cost(x_train, y_train, initial_w, initial_b)\n",
    "print(type(cost))\n",
    "print(f'Cost at initial w: {cost}')"
   ]
  },
  {
   "cell_type": "code",
   "execution_count": 175,
   "id": "98586e3b-4cd1-43e8-a516-0d5b772cd62a",
   "metadata": {},
   "outputs": [],
   "source": [
    "def compute_gradient(x,y,w,b):\n",
    "    dJ_dw = 0\n",
    "    dJ_db = 0\n",
    "    m = x.shape[0]\n",
    "    \n",
    "    for i in range(m):\n",
    "        dJ_dw += (w*x[i] + b - y[i]) * x[i]\n",
    "        dJ_db += w*x[i] + b - y[i]\n",
    "\n",
    "    dJ_dw /= m\n",
    "    dJ_db /= m\n",
    "\n",
    "    return dJ_dw, dJ_db"
   ]
  },
  {
   "cell_type": "code",
   "execution_count": 179,
   "id": "cf277b07-1b83-4a5f-9051-96c481ee4154",
   "metadata": {},
   "outputs": [],
   "source": [
    "def gradient_descent(x, y, w, b, cost_func, gradient_func, alpha, iteration):\n",
    "\n",
    "    m = x.shape[0]\n",
    "    \n",
    "    for i in range(iteration):\n",
    "        dJ_dw, dJ_db = gradient_func(x, y, w, b)\n",
    "        w = w - alpha * dJ_dw\n",
    "        b = b - alpha * dJ_db\n",
    "\n",
    "        if i < 100000:\n",
    "            cost = cost_func(x, y, w, b)\n",
    "\n",
    "        if i% math.ceil(iteration/10) == 0:\n",
    "            print(f\"Iteration {i:4}: Cost {cost}   \")\n",
    "        \n",
    "    return w, b"
   ]
  },
  {
   "cell_type": "code",
   "execution_count": 180,
   "id": "6d700cfd-785d-466f-a2a5-2c19cf4488b1",
   "metadata": {},
   "outputs": [
    {
     "name": "stdout",
     "output_type": "stream",
     "text": [
      "Iteration    0: Cost 1.3873216079685255   \n",
      "Iteration 1000: Cost 0.6146488864146991   \n",
      "Iteration 2000: Cost 0.5101835921039394   \n",
      "Iteration 3000: Cost 0.49605989210649676   \n",
      "Iteration 4000: Cost 0.49415036892050584   \n",
      "Iteration 5000: Cost 0.49389220152821495   \n",
      "Iteration 6000: Cost 0.4938572973160372   \n",
      "Iteration 7000: Cost 0.4938525782691547   \n",
      "Iteration 8000: Cost 0.4938519402543684   \n",
      "Iteration 9000: Cost 0.493851853994817   \n",
      "[0.11092893]\n",
      "[4.5173346e-05]\n"
     ]
    }
   ],
   "source": [
    "initial_w = 1\n",
    "initial_b = 1\n",
    "alpha = 0.001\n",
    "iteration = 10000\n",
    "w, b = gradient_descent(x_scaled, y_scaled, initial_w, initial_b, compute_cost, compute_gradient, alpha, iteration)\n",
    "print(w)\n",
    "print(b)"
   ]
  },
  {
   "cell_type": "code",
   "execution_count": 193,
   "id": "6731d30e-f388-4535-999a-f42b905fd04f",
   "metadata": {},
   "outputs": [
    {
     "name": "stdout",
     "output_type": "stream",
     "text": [
      "[[-3.65535838e-02]\n",
      " [ 7.16928959e-01]\n",
      " [-7.85170928e-03]\n",
      " ...\n",
      " [ 4.51733573e-05]\n",
      " [-7.13225212e-02]\n",
      " [-6.68888983e-02]]\n"
     ]
    }
   ],
   "source": [
    "m = x_scaled.shape[0]\n",
    "predicted = np.zeros(m)\n",
    "\n",
    "predicted = w * x_scaled + b\n",
    "\n",
    "print(predicted)"
   ]
  },
  {
   "cell_type": "code",
   "execution_count": 194,
   "id": "45fa6efa-c461-4933-9fc6-ea45fbdb8c40",
   "metadata": {},
   "outputs": [
    {
     "data": {
      "text/plain": [
       "Text(0, 0.5, 'Price')"
      ]
     },
     "execution_count": 194,
     "metadata": {},
     "output_type": "execute_result"
    },
    {
     "data": {
      "image/png": "[encoded data removed]",
      "text/plain": [
       "<Figure size 640x480 with 1 Axes>"
      ]
     },
     "metadata": {},
     "output_type": "display_data"
    }
   ],
   "source": [
    "plt.plot(x_scaled, predicted, c=\"b\")\n",
    "plt.scatter(x_scaled, y_scaled, marker=\"x\", c=\"r\")\n",
    "plt.title(\"Price vs Area for House Price\")\n",
    "plt.xlabel(\"Area\")\n",
    "plt.ylabel(\"Price\")"
   ]
  },
  {
   "cell_type": "code",
   "execution_count": 197,
   "id": "13a8c418-62d7-4bfc-bd94-25ad694055c1",
   "metadata": {},
   "outputs": [
    {
     "name": "stdin",
     "output_type": "stream",
     "text": [
      "Enter house area here:  1400\n"
     ]
    },
    {
     "name": "stdout",
     "output_type": "stream",
     "text": [
      "Your Predicted House Price is: 2097058.8879166688\n"
     ]
    }
   ],
   "source": [
    "model_predict = float(input(\"Enter house area here: \"))\n",
    "scaled_input = scaler.transform(np.array([[model_predict]]))\n",
    "predicted_scaled_price = w * scaled_input + b\n",
    "predicted_price = scaler.inverse_transform(predicted_scaled_price)\n",
    "\n",
    "print(f\"Your Predicted House Price is: {predicted_price[0][0]}\")"
   ]
  },
  {
   "cell_type": "code",
   "execution_count": null,
   "id": "5bdfd0c9-f190-44c2-9dfe-540f13289dc7",
   "metadata": {},
   "outputs": [],
   "source": []
  }
 ],
 "metadata": {
  "kernelspec": {
   "display_name": "Python 3 (ipykernel)",
   "language": "python",
   "name": "python3"
  },
  "language_info": {
   "codemirror_mode": {
    "name": "ipython",
    "version": 3
   },
   "file_extension": ".py",
   "mimetype": "text/x-python",
   "name": "python",
   "nbconvert_exporter": "python",
   "pygments_lexer": "ipython3",
   "version": "3.12.6"
  }
 },
 "nbformat": 4,
 "nbformat_minor": 5
}
